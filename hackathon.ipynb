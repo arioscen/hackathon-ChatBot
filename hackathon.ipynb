{
 "cells": [
  {
   "cell_type": "code",
   "execution_count": 13,
   "metadata": {},
   "outputs": [
    {
     "name": "stdout",
     "output_type": "stream",
     "text": [
      "conversations.yml Training: [####################] 100%\n",
      "greetings.yml Training: [####################] 100%\n",
      "trivia.yml Training: [####################] 100%\n"
     ]
    }
   ],
   "source": [
    "from chatterbot import ChatBot\n",
    "\n",
    "# 建立一個 ChatBot 物件\n",
    "chatbot = ChatBot(\n",
    "    'Ron Obvious',\n",
    "    trainer = 'chatterbot.trainers.ChatterBotCorpusTrainer'\n",
    ")\n",
    "\n",
    "chatbot.train(\"chatterbot.corpus.chinese\")"
   ]
  },
  {
   "cell_type": "code",
   "execution_count": 14,
   "metadata": {},
   "outputs": [
    {
     "name": "stdout",
     "output_type": "stream",
     "text": [
      "比賽123\n"
     ]
    }
   ],
   "source": [
    "# 與 ChatBot 對話，並且取得回應\n",
    "response = chatbot.get_response(\"黑客松\").text\n",
    "print(response)"
   ]
  },
  {
   "cell_type": "code",
   "execution_count": 14,
   "metadata": {
    "collapsed": true
   },
   "outputs": [],
   "source": [
    "# coding=UTF-8\n",
    "\n",
    "import sys, os, datetime, time, re\n",
    "import random\n",
    "from slackbot import bot\n",
    "\n",
    "import configparser\n",
    "config = configparser.ConfigParser()\n",
    "config.read(\"config.ini\")\n",
    "\n",
    "## 請預先將主辦單位分發的 Bot token 設成環境變數，以避免放置在程式中有外流之疑慮\n",
    "# TOKEN_MYBOT = os.environ['MY_BOT']\n",
    "\n",
    "# 改為從 config.ini 讀取 token (已失效)\n",
    "TOKEN_MYBOT = config['hackathon']['token']\n",
    "bot.settings.API_TOKEN  = TOKEN_MYBOT\n",
    "\n",
    "from slackbot.bot import Bot\n",
    "from slackbot.bot import respond_to\n",
    "from slackbot.bot import listen_to"
   ]
  },
  {
   "cell_type": "code",
   "execution_count": 15,
   "metadata": {
    "collapsed": true
   },
   "outputs": [],
   "source": [
    "def main():\n",
    "    bot = Bot()\n",
    "    bot.run()"
   ]
  },
  {
   "cell_type": "markdown",
   "metadata": {},
   "source": [
    "# 可以將演算法接在這裡"
   ]
  },
  {
   "cell_type": "code",
   "execution_count": 16,
   "metadata": {
    "collapsed": true
   },
   "outputs": [],
   "source": [
    "def algorithm(question_string):\n",
    "#     answer_string = \"我是回答\"\n",
    "    answer_string = chatbot.get_response(question_string)\n",
    "    return answer_string"
   ]
  },
  {
   "cell_type": "markdown",
   "metadata": {},
   "source": [
    "# 當聽見 pixbot 說『問題』時，呼叫設計好的演算法給出對應的答案"
   ]
  },
  {
   "cell_type": "code",
   "execution_count": 17,
   "metadata": {
    "collapsed": true
   },
   "outputs": [],
   "source": [
    "@listen_to(\"『問題』\" + ' (.*)')\n",
    "def receive_question(message, question_string):\n",
    "    if message._client.users[message._get_user_id()][u'name'] == \"pixbot\":\n",
    "        answer = algorithm(question_string)\n",
    "        message.send(answer)"
   ]
  },
  {
   "cell_type": "markdown",
   "metadata": {},
   "source": [
    "# 執行 bot 主程式"
   ]
  },
  {
   "cell_type": "code",
   "execution_count": 1,
   "metadata": {},
   "outputs": [
    {
     "ename": "NameError",
     "evalue": "name 'main' is not defined",
     "output_type": "error",
     "traceback": [
      "\u001b[1;31m---------------------------------------------------------------------------\u001b[0m",
      "\u001b[1;31mNameError\u001b[0m                                 Traceback (most recent call last)",
      "\u001b[1;32m<ipython-input-1-58ca95c5b364>\u001b[0m in \u001b[0;36m<module>\u001b[1;34m()\u001b[0m\n\u001b[1;32m----> 1\u001b[1;33m \u001b[0mmain\u001b[0m\u001b[1;33m(\u001b[0m\u001b[1;33m)\u001b[0m\u001b[1;33m\u001b[0m\u001b[0m\n\u001b[0m",
      "\u001b[1;31mNameError\u001b[0m: name 'main' is not defined"
     ]
    }
   ],
   "source": [
    "main()"
   ]
  },
  {
   "cell_type": "code",
   "execution_count": null,
   "metadata": {
    "collapsed": true
   },
   "outputs": [],
   "source": []
  }
 ],
 "metadata": {
  "kernelspec": {
   "display_name": "Python 3",
   "language": "python",
   "name": "python3"
  },
  "language_info": {
   "codemirror_mode": {
    "name": "ipython",
    "version": 3
   },
   "file_extension": ".py",
   "mimetype": "text/x-python",
   "name": "python",
   "nbconvert_exporter": "python",
   "pygments_lexer": "ipython3",
   "version": "3.6.1"
  }
 },
 "nbformat": 4,
 "nbformat_minor": 1
}
